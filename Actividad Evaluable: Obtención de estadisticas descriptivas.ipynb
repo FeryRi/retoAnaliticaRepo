{
  "nbformat": 4,
  "nbformat_minor": 0,
  "metadata": {
    "colab": {
      "provenance": [],
      "mount_file_id": "1NRBLXsb3Yp5sjQsgbqGEvhlNFxvau3bG",
      "authorship_tag": "ABX9TyOdgBwU5o565GswQHWs7ViI",
      "include_colab_link": true
    },
    "kernelspec": {
      "name": "python3",
      "display_name": "Python 3"
    },
    "language_info": {
      "name": "python"
    }
  },
  "cells": [
    {
      "cell_type": "markdown",
      "metadata": {
        "id": "view-in-github",
        "colab_type": "text"
      },
      "source": [
        "<a href=\"https://colab.research.google.com/github/FeryRi/retoAnaliticaRepo/blob/main/Actividad%20Evaluable%3A%20Obtenci%C3%B3n%20de%20estadisticas%20descriptivas.ipynb\" target=\"_parent\"><img src=\"https://colab.research.google.com/assets/colab-badge.svg\" alt=\"Open In Colab\"/></a>"
      ]
    },
    {
      "cell_type": "code",
      "execution_count": 1,
      "metadata": {
        "id": "ROb4E3aRsOSP"
      },
      "outputs": [],
      "source": [
        "import pandas as pd"
      ]
    },
    {
      "cell_type": "code",
      "source": [
        "df=pd.read_csv('/content/drive/MyDrive/retoAnalitica/avocado_full.csv')"
      ],
      "metadata": {
        "id": "8X7rvabLspII"
      },
      "execution_count": 3,
      "outputs": []
    },
    {
      "cell_type": "markdown",
      "source": [
        "desplegar la columna de la region de las vegas"
      ],
      "metadata": {
        "id": "ye-l1R90tp7G"
      }
    },
    {
      "cell_type": "code",
      "source": [
        "Vegas=df[df[\"region\"]==\"LasVegas\"]\n",
        "Vegas"
      ],
      "metadata": {
        "colab": {
          "base_uri": "https://localhost:8080/",
          "height": 634
        },
        "id": "6qTVWSmltuVi",
        "outputId": "a10b1b39-5fed-46df-ad07-5328eb745bfa"
      },
      "execution_count": 6,
      "outputs": [
        {
          "output_type": "execute_result",
          "data": {
            "text/plain": [
              "             Date  AveragePrice  Total Volume       4046       4225      4770  \\\n",
              "1092   2015-12-27          0.83     292707.14  135799.94   93317.46   4977.64   \n",
              "1093   2015-12-20          0.96     232294.71   96355.05   77086.11   4749.61   \n",
              "1094   2015-12-13          0.95     216119.35  101042.61   68490.51   4942.71   \n",
              "1095   2015-12-06          0.89     244024.83   94777.64  107758.80  10794.34   \n",
              "1096   2015-11-29          0.95     205476.61   88653.67   81160.21   5227.59   \n",
              "...           ...           ...           ...        ...        ...       ...   \n",
              "17860  2018-02-04          1.79       9503.13    1479.32    1512.78      0.00   \n",
              "17861  2018-01-28          1.78       8672.12    1005.73    2110.22      0.00   \n",
              "17862  2018-01-21          1.91       7491.53    1096.07    1280.31      0.00   \n",
              "17863  2018-01-14          1.98       9883.94    1497.55    2199.58      0.00   \n",
              "17864  2018-01-07          1.73      10293.36    1701.33    2012.10      0.00   \n",
              "\n",
              "       Total Bags  Small Bags  Large Bags  XLarge Bags          type  year  \\\n",
              "1092     58612.10    34675.97    23936.13          0.0  conventional  2015   \n",
              "1093     54103.94    34992.96    19110.98          0.0  conventional  2015   \n",
              "1094     41643.52    33834.13     7809.39          0.0  conventional  2015   \n",
              "1095     30694.05    30201.26      492.79          0.0  conventional  2015   \n",
              "1096     30435.14    29475.24      959.90          0.0  conventional  2015   \n",
              "...           ...         ...         ...          ...           ...   ...   \n",
              "17860     6511.03     6465.39       45.64          0.0       organic  2018   \n",
              "17861     5556.17     5538.46       17.71          0.0       organic  2018   \n",
              "17862     5115.15     5115.15        0.00          0.0       organic  2018   \n",
              "17863     6186.81     6180.41        6.40          0.0       organic  2018   \n",
              "17864     6579.93     6553.06       26.87          0.0       organic  2018   \n",
              "\n",
              "         region  \n",
              "1092   LasVegas  \n",
              "1093   LasVegas  \n",
              "1094   LasVegas  \n",
              "1095   LasVegas  \n",
              "1096   LasVegas  \n",
              "...         ...  \n",
              "17860  LasVegas  \n",
              "17861  LasVegas  \n",
              "17862  LasVegas  \n",
              "17863  LasVegas  \n",
              "17864  LasVegas  \n",
              "\n",
              "[338 rows x 13 columns]"
            ],
            "text/html": [
              "\n",
              "  <div id=\"df-7749d89e-1716-4406-9add-192d18e1c470\" class=\"colab-df-container\">\n",
              "    <div>\n",
              "<style scoped>\n",
              "    .dataframe tbody tr th:only-of-type {\n",
              "        vertical-align: middle;\n",
              "    }\n",
              "\n",
              "    .dataframe tbody tr th {\n",
              "        vertical-align: top;\n",
              "    }\n",
              "\n",
              "    .dataframe thead th {\n",
              "        text-align: right;\n",
              "    }\n",
              "</style>\n",
              "<table border=\"1\" class=\"dataframe\">\n",
              "  <thead>\n",
              "    <tr style=\"text-align: right;\">\n",
              "      <th></th>\n",
              "      <th>Date</th>\n",
              "      <th>AveragePrice</th>\n",
              "      <th>Total Volume</th>\n",
              "      <th>4046</th>\n",
              "      <th>4225</th>\n",
              "      <th>4770</th>\n",
              "      <th>Total Bags</th>\n",
              "      <th>Small Bags</th>\n",
              "      <th>Large Bags</th>\n",
              "      <th>XLarge Bags</th>\n",
              "      <th>type</th>\n",
              "      <th>year</th>\n",
              "      <th>region</th>\n",
              "    </tr>\n",
              "  </thead>\n",
              "  <tbody>\n",
              "    <tr>\n",
              "      <th>1092</th>\n",
              "      <td>2015-12-27</td>\n",
              "      <td>0.83</td>\n",
              "      <td>292707.14</td>\n",
              "      <td>135799.94</td>\n",
              "      <td>93317.46</td>\n",
              "      <td>4977.64</td>\n",
              "      <td>58612.10</td>\n",
              "      <td>34675.97</td>\n",
              "      <td>23936.13</td>\n",
              "      <td>0.0</td>\n",
              "      <td>conventional</td>\n",
              "      <td>2015</td>\n",
              "      <td>LasVegas</td>\n",
              "    </tr>\n",
              "    <tr>\n",
              "      <th>1093</th>\n",
              "      <td>2015-12-20</td>\n",
              "      <td>0.96</td>\n",
              "      <td>232294.71</td>\n",
              "      <td>96355.05</td>\n",
              "      <td>77086.11</td>\n",
              "      <td>4749.61</td>\n",
              "      <td>54103.94</td>\n",
              "      <td>34992.96</td>\n",
              "      <td>19110.98</td>\n",
              "      <td>0.0</td>\n",
              "      <td>conventional</td>\n",
              "      <td>2015</td>\n",
              "      <td>LasVegas</td>\n",
              "    </tr>\n",
              "    <tr>\n",
              "      <th>1094</th>\n",
              "      <td>2015-12-13</td>\n",
              "      <td>0.95</td>\n",
              "      <td>216119.35</td>\n",
              "      <td>101042.61</td>\n",
              "      <td>68490.51</td>\n",
              "      <td>4942.71</td>\n",
              "      <td>41643.52</td>\n",
              "      <td>33834.13</td>\n",
              "      <td>7809.39</td>\n",
              "      <td>0.0</td>\n",
              "      <td>conventional</td>\n",
              "      <td>2015</td>\n",
              "      <td>LasVegas</td>\n",
              "    </tr>\n",
              "    <tr>\n",
              "      <th>1095</th>\n",
              "      <td>2015-12-06</td>\n",
              "      <td>0.89</td>\n",
              "      <td>244024.83</td>\n",
              "      <td>94777.64</td>\n",
              "      <td>107758.80</td>\n",
              "      <td>10794.34</td>\n",
              "      <td>30694.05</td>\n",
              "      <td>30201.26</td>\n",
              "      <td>492.79</td>\n",
              "      <td>0.0</td>\n",
              "      <td>conventional</td>\n",
              "      <td>2015</td>\n",
              "      <td>LasVegas</td>\n",
              "    </tr>\n",
              "    <tr>\n",
              "      <th>1096</th>\n",
              "      <td>2015-11-29</td>\n",
              "      <td>0.95</td>\n",
              "      <td>205476.61</td>\n",
              "      <td>88653.67</td>\n",
              "      <td>81160.21</td>\n",
              "      <td>5227.59</td>\n",
              "      <td>30435.14</td>\n",
              "      <td>29475.24</td>\n",
              "      <td>959.90</td>\n",
              "      <td>0.0</td>\n",
              "      <td>conventional</td>\n",
              "      <td>2015</td>\n",
              "      <td>LasVegas</td>\n",
              "    </tr>\n",
              "    <tr>\n",
              "      <th>...</th>\n",
              "      <td>...</td>\n",
              "      <td>...</td>\n",
              "      <td>...</td>\n",
              "      <td>...</td>\n",
              "      <td>...</td>\n",
              "      <td>...</td>\n",
              "      <td>...</td>\n",
              "      <td>...</td>\n",
              "      <td>...</td>\n",
              "      <td>...</td>\n",
              "      <td>...</td>\n",
              "      <td>...</td>\n",
              "      <td>...</td>\n",
              "    </tr>\n",
              "    <tr>\n",
              "      <th>17860</th>\n",
              "      <td>2018-02-04</td>\n",
              "      <td>1.79</td>\n",
              "      <td>9503.13</td>\n",
              "      <td>1479.32</td>\n",
              "      <td>1512.78</td>\n",
              "      <td>0.00</td>\n",
              "      <td>6511.03</td>\n",
              "      <td>6465.39</td>\n",
              "      <td>45.64</td>\n",
              "      <td>0.0</td>\n",
              "      <td>organic</td>\n",
              "      <td>2018</td>\n",
              "      <td>LasVegas</td>\n",
              "    </tr>\n",
              "    <tr>\n",
              "      <th>17861</th>\n",
              "      <td>2018-01-28</td>\n",
              "      <td>1.78</td>\n",
              "      <td>8672.12</td>\n",
              "      <td>1005.73</td>\n",
              "      <td>2110.22</td>\n",
              "      <td>0.00</td>\n",
              "      <td>5556.17</td>\n",
              "      <td>5538.46</td>\n",
              "      <td>17.71</td>\n",
              "      <td>0.0</td>\n",
              "      <td>organic</td>\n",
              "      <td>2018</td>\n",
              "      <td>LasVegas</td>\n",
              "    </tr>\n",
              "    <tr>\n",
              "      <th>17862</th>\n",
              "      <td>2018-01-21</td>\n",
              "      <td>1.91</td>\n",
              "      <td>7491.53</td>\n",
              "      <td>1096.07</td>\n",
              "      <td>1280.31</td>\n",
              "      <td>0.00</td>\n",
              "      <td>5115.15</td>\n",
              "      <td>5115.15</td>\n",
              "      <td>0.00</td>\n",
              "      <td>0.0</td>\n",
              "      <td>organic</td>\n",
              "      <td>2018</td>\n",
              "      <td>LasVegas</td>\n",
              "    </tr>\n",
              "    <tr>\n",
              "      <th>17863</th>\n",
              "      <td>2018-01-14</td>\n",
              "      <td>1.98</td>\n",
              "      <td>9883.94</td>\n",
              "      <td>1497.55</td>\n",
              "      <td>2199.58</td>\n",
              "      <td>0.00</td>\n",
              "      <td>6186.81</td>\n",
              "      <td>6180.41</td>\n",
              "      <td>6.40</td>\n",
              "      <td>0.0</td>\n",
              "      <td>organic</td>\n",
              "      <td>2018</td>\n",
              "      <td>LasVegas</td>\n",
              "    </tr>\n",
              "    <tr>\n",
              "      <th>17864</th>\n",
              "      <td>2018-01-07</td>\n",
              "      <td>1.73</td>\n",
              "      <td>10293.36</td>\n",
              "      <td>1701.33</td>\n",
              "      <td>2012.10</td>\n",
              "      <td>0.00</td>\n",
              "      <td>6579.93</td>\n",
              "      <td>6553.06</td>\n",
              "      <td>26.87</td>\n",
              "      <td>0.0</td>\n",
              "      <td>organic</td>\n",
              "      <td>2018</td>\n",
              "      <td>LasVegas</td>\n",
              "    </tr>\n",
              "  </tbody>\n",
              "</table>\n",
              "<p>338 rows × 13 columns</p>\n",
              "</div>\n",
              "    <div class=\"colab-df-buttons\">\n",
              "\n",
              "  <div class=\"colab-df-container\">\n",
              "    <button class=\"colab-df-convert\" onclick=\"convertToInteractive('df-7749d89e-1716-4406-9add-192d18e1c470')\"\n",
              "            title=\"Convert this dataframe to an interactive table.\"\n",
              "            style=\"display:none;\">\n",
              "\n",
              "  <svg xmlns=\"http://www.w3.org/2000/svg\" height=\"24px\" viewBox=\"0 -960 960 960\">\n",
              "    <path d=\"M120-120v-720h720v720H120Zm60-500h600v-160H180v160Zm220 220h160v-160H400v160Zm0 220h160v-160H400v160ZM180-400h160v-160H180v160Zm440 0h160v-160H620v160ZM180-180h160v-160H180v160Zm440 0h160v-160H620v160Z\"/>\n",
              "  </svg>\n",
              "    </button>\n",
              "\n",
              "  <style>\n",
              "    .colab-df-container {\n",
              "      display:flex;\n",
              "      gap: 12px;\n",
              "    }\n",
              "\n",
              "    .colab-df-convert {\n",
              "      background-color: #E8F0FE;\n",
              "      border: none;\n",
              "      border-radius: 50%;\n",
              "      cursor: pointer;\n",
              "      display: none;\n",
              "      fill: #1967D2;\n",
              "      height: 32px;\n",
              "      padding: 0 0 0 0;\n",
              "      width: 32px;\n",
              "    }\n",
              "\n",
              "    .colab-df-convert:hover {\n",
              "      background-color: #E2EBFA;\n",
              "      box-shadow: 0px 1px 2px rgba(60, 64, 67, 0.3), 0px 1px 3px 1px rgba(60, 64, 67, 0.15);\n",
              "      fill: #174EA6;\n",
              "    }\n",
              "\n",
              "    .colab-df-buttons div {\n",
              "      margin-bottom: 4px;\n",
              "    }\n",
              "\n",
              "    [theme=dark] .colab-df-convert {\n",
              "      background-color: #3B4455;\n",
              "      fill: #D2E3FC;\n",
              "    }\n",
              "\n",
              "    [theme=dark] .colab-df-convert:hover {\n",
              "      background-color: #434B5C;\n",
              "      box-shadow: 0px 1px 3px 1px rgba(0, 0, 0, 0.15);\n",
              "      filter: drop-shadow(0px 1px 2px rgba(0, 0, 0, 0.3));\n",
              "      fill: #FFFFFF;\n",
              "    }\n",
              "  </style>\n",
              "\n",
              "    <script>\n",
              "      const buttonEl =\n",
              "        document.querySelector('#df-7749d89e-1716-4406-9add-192d18e1c470 button.colab-df-convert');\n",
              "      buttonEl.style.display =\n",
              "        google.colab.kernel.accessAllowed ? 'block' : 'none';\n",
              "\n",
              "      async function convertToInteractive(key) {\n",
              "        const element = document.querySelector('#df-7749d89e-1716-4406-9add-192d18e1c470');\n",
              "        const dataTable =\n",
              "          await google.colab.kernel.invokeFunction('convertToInteractive',\n",
              "                                                    [key], {});\n",
              "        if (!dataTable) return;\n",
              "\n",
              "        const docLinkHtml = 'Like what you see? Visit the ' +\n",
              "          '<a target=\"_blank\" href=https://colab.research.google.com/notebooks/data_table.ipynb>data table notebook</a>'\n",
              "          + ' to learn more about interactive tables.';\n",
              "        element.innerHTML = '';\n",
              "        dataTable['output_type'] = 'display_data';\n",
              "        await google.colab.output.renderOutput(dataTable, element);\n",
              "        const docLink = document.createElement('div');\n",
              "        docLink.innerHTML = docLinkHtml;\n",
              "        element.appendChild(docLink);\n",
              "      }\n",
              "    </script>\n",
              "  </div>\n",
              "\n",
              "\n",
              "<div id=\"df-0c6d4818-68bc-4bfe-9e0e-c91e89233e37\">\n",
              "  <button class=\"colab-df-quickchart\" onclick=\"quickchart('df-0c6d4818-68bc-4bfe-9e0e-c91e89233e37')\"\n",
              "            title=\"Suggest charts\"\n",
              "            style=\"display:none;\">\n",
              "\n",
              "<svg xmlns=\"http://www.w3.org/2000/svg\" height=\"24px\"viewBox=\"0 0 24 24\"\n",
              "     width=\"24px\">\n",
              "    <g>\n",
              "        <path d=\"M19 3H5c-1.1 0-2 .9-2 2v14c0 1.1.9 2 2 2h14c1.1 0 2-.9 2-2V5c0-1.1-.9-2-2-2zM9 17H7v-7h2v7zm4 0h-2V7h2v10zm4 0h-2v-4h2v4z\"/>\n",
              "    </g>\n",
              "</svg>\n",
              "  </button>\n",
              "\n",
              "<style>\n",
              "  .colab-df-quickchart {\n",
              "      --bg-color: #E8F0FE;\n",
              "      --fill-color: #1967D2;\n",
              "      --hover-bg-color: #E2EBFA;\n",
              "      --hover-fill-color: #174EA6;\n",
              "      --disabled-fill-color: #AAA;\n",
              "      --disabled-bg-color: #DDD;\n",
              "  }\n",
              "\n",
              "  [theme=dark] .colab-df-quickchart {\n",
              "      --bg-color: #3B4455;\n",
              "      --fill-color: #D2E3FC;\n",
              "      --hover-bg-color: #434B5C;\n",
              "      --hover-fill-color: #FFFFFF;\n",
              "      --disabled-bg-color: #3B4455;\n",
              "      --disabled-fill-color: #666;\n",
              "  }\n",
              "\n",
              "  .colab-df-quickchart {\n",
              "    background-color: var(--bg-color);\n",
              "    border: none;\n",
              "    border-radius: 50%;\n",
              "    cursor: pointer;\n",
              "    display: none;\n",
              "    fill: var(--fill-color);\n",
              "    height: 32px;\n",
              "    padding: 0;\n",
              "    width: 32px;\n",
              "  }\n",
              "\n",
              "  .colab-df-quickchart:hover {\n",
              "    background-color: var(--hover-bg-color);\n",
              "    box-shadow: 0 1px 2px rgba(60, 64, 67, 0.3), 0 1px 3px 1px rgba(60, 64, 67, 0.15);\n",
              "    fill: var(--button-hover-fill-color);\n",
              "  }\n",
              "\n",
              "  .colab-df-quickchart-complete:disabled,\n",
              "  .colab-df-quickchart-complete:disabled:hover {\n",
              "    background-color: var(--disabled-bg-color);\n",
              "    fill: var(--disabled-fill-color);\n",
              "    box-shadow: none;\n",
              "  }\n",
              "\n",
              "  .colab-df-spinner {\n",
              "    border: 2px solid var(--fill-color);\n",
              "    border-color: transparent;\n",
              "    border-bottom-color: var(--fill-color);\n",
              "    animation:\n",
              "      spin 1s steps(1) infinite;\n",
              "  }\n",
              "\n",
              "  @keyframes spin {\n",
              "    0% {\n",
              "      border-color: transparent;\n",
              "      border-bottom-color: var(--fill-color);\n",
              "      border-left-color: var(--fill-color);\n",
              "    }\n",
              "    20% {\n",
              "      border-color: transparent;\n",
              "      border-left-color: var(--fill-color);\n",
              "      border-top-color: var(--fill-color);\n",
              "    }\n",
              "    30% {\n",
              "      border-color: transparent;\n",
              "      border-left-color: var(--fill-color);\n",
              "      border-top-color: var(--fill-color);\n",
              "      border-right-color: var(--fill-color);\n",
              "    }\n",
              "    40% {\n",
              "      border-color: transparent;\n",
              "      border-right-color: var(--fill-color);\n",
              "      border-top-color: var(--fill-color);\n",
              "    }\n",
              "    60% {\n",
              "      border-color: transparent;\n",
              "      border-right-color: var(--fill-color);\n",
              "    }\n",
              "    80% {\n",
              "      border-color: transparent;\n",
              "      border-right-color: var(--fill-color);\n",
              "      border-bottom-color: var(--fill-color);\n",
              "    }\n",
              "    90% {\n",
              "      border-color: transparent;\n",
              "      border-bottom-color: var(--fill-color);\n",
              "    }\n",
              "  }\n",
              "</style>\n",
              "\n",
              "  <script>\n",
              "    async function quickchart(key) {\n",
              "      const quickchartButtonEl =\n",
              "        document.querySelector('#' + key + ' button');\n",
              "      quickchartButtonEl.disabled = true;  // To prevent multiple clicks.\n",
              "      quickchartButtonEl.classList.add('colab-df-spinner');\n",
              "      try {\n",
              "        const charts = await google.colab.kernel.invokeFunction(\n",
              "            'suggestCharts', [key], {});\n",
              "      } catch (error) {\n",
              "        console.error('Error during call to suggestCharts:', error);\n",
              "      }\n",
              "      quickchartButtonEl.classList.remove('colab-df-spinner');\n",
              "      quickchartButtonEl.classList.add('colab-df-quickchart-complete');\n",
              "    }\n",
              "    (() => {\n",
              "      let quickchartButtonEl =\n",
              "        document.querySelector('#df-0c6d4818-68bc-4bfe-9e0e-c91e89233e37 button');\n",
              "      quickchartButtonEl.style.display =\n",
              "        google.colab.kernel.accessAllowed ? 'block' : 'none';\n",
              "    })();\n",
              "  </script>\n",
              "</div>\n",
              "    </div>\n",
              "  </div>\n"
            ],
            "application/vnd.google.colaboratory.intrinsic+json": {
              "type": "dataframe",
              "variable_name": "Vegas",
              "repr_error": "0"
            }
          },
          "metadata": {},
          "execution_count": 6
        }
      ]
    },
    {
      "cell_type": "code",
      "source": [
        "NY=df[df[\"region\"]==\"NewYork\"]\n",
        "California=df[df[\"region\"]==\"California\"]\n",
        "Charlotte=df[df[\"region\"]==\"Charlotte\"]\n",
        "\n"
      ],
      "metadata": {
        "id": "0Cbbjb8AxEb3"
      },
      "execution_count": 10,
      "outputs": []
    },
    {
      "cell_type": "code",
      "source": [
        "NY"
      ],
      "metadata": {
        "colab": {
          "base_uri": "https://localhost:8080/",
          "height": 634
        },
        "id": "P9ECO0zOxz7I",
        "outputId": "0c7363d2-6ca0-463f-d539-e440f33174da"
      },
      "execution_count": 14,
      "outputs": [
        {
          "output_type": "execute_result",
          "data": {
            "text/plain": [
              "             Date  AveragePrice  Total Volume      4046       4225     4770  \\\n",
              "1456   2015-12-27          1.17    1129876.05  13711.19  872603.60   894.58   \n",
              "1457   2015-12-20          1.23    1139347.98  13998.35  867406.68   803.83   \n",
              "1458   2015-12-13          1.12    1254805.29  15990.38  975504.52  1657.92   \n",
              "1459   2015-12-06          1.20    1068971.54  15730.10  887708.08   892.62   \n",
              "1460   2015-11-29          1.16     999169.64  13652.41  814571.57   863.58   \n",
              "...           ...           ...           ...       ...        ...      ...   \n",
              "17944  2018-02-04          1.83      93204.08   9300.64   21428.22   814.47   \n",
              "17945  2018-01-28          1.75      96380.28  13196.30   24933.01   128.24   \n",
              "17946  2018-01-21          1.91      71760.69   5732.09   13124.59   157.72   \n",
              "17947  2018-01-14          1.91      86632.25   7433.43   17885.26    49.43   \n",
              "17948  2018-01-07          1.97      82637.97   6158.73   19251.81    47.04   \n",
              "\n",
              "       Total Bags  Small Bags  Large Bags  XLarge Bags          type  year  \\\n",
              "1456    242666.68   208470.99    34191.25         4.44  conventional  2015   \n",
              "1457    257139.12   212615.20    44523.92         0.00  conventional  2015   \n",
              "1458    261652.47   222446.62    39205.85         0.00  conventional  2015   \n",
              "1459    164640.74   136643.23    27997.51         0.00  conventional  2015   \n",
              "1460    170082.08   139508.76    30573.32         0.00  conventional  2015   \n",
              "...           ...         ...         ...          ...           ...   ...   \n",
              "17944    61660.75    61516.19      144.56         0.00       organic  2018   \n",
              "17945    58122.73    56090.23     2032.50         0.00       organic  2018   \n",
              "17946    52746.29    52130.98      615.31         0.00       organic  2018   \n",
              "17947    61264.13    60763.71      500.42         0.00       organic  2018   \n",
              "17948    57180.39    57180.39        0.00         0.00       organic  2018   \n",
              "\n",
              "        region  \n",
              "1456   NewYork  \n",
              "1457   NewYork  \n",
              "1458   NewYork  \n",
              "1459   NewYork  \n",
              "1460   NewYork  \n",
              "...        ...  \n",
              "17944  NewYork  \n",
              "17945  NewYork  \n",
              "17946  NewYork  \n",
              "17947  NewYork  \n",
              "17948  NewYork  \n",
              "\n",
              "[338 rows x 13 columns]"
            ],
            "text/html": [
              "\n",
              "  <div id=\"df-b1a53f7c-231d-42d0-a767-b24287d4244c\" class=\"colab-df-container\">\n",
              "    <div>\n",
              "<style scoped>\n",
              "    .dataframe tbody tr th:only-of-type {\n",
              "        vertical-align: middle;\n",
              "    }\n",
              "\n",
              "    .dataframe tbody tr th {\n",
              "        vertical-align: top;\n",
              "    }\n",
              "\n",
              "    .dataframe thead th {\n",
              "        text-align: right;\n",
              "    }\n",
              "</style>\n",
              "<table border=\"1\" class=\"dataframe\">\n",
              "  <thead>\n",
              "    <tr style=\"text-align: right;\">\n",
              "      <th></th>\n",
              "      <th>Date</th>\n",
              "      <th>AveragePrice</th>\n",
              "      <th>Total Volume</th>\n",
              "      <th>4046</th>\n",
              "      <th>4225</th>\n",
              "      <th>4770</th>\n",
              "      <th>Total Bags</th>\n",
              "      <th>Small Bags</th>\n",
              "      <th>Large Bags</th>\n",
              "      <th>XLarge Bags</th>\n",
              "      <th>type</th>\n",
              "      <th>year</th>\n",
              "      <th>region</th>\n",
              "    </tr>\n",
              "  </thead>\n",
              "  <tbody>\n",
              "    <tr>\n",
              "      <th>1456</th>\n",
              "      <td>2015-12-27</td>\n",
              "      <td>1.17</td>\n",
              "      <td>1129876.05</td>\n",
              "      <td>13711.19</td>\n",
              "      <td>872603.60</td>\n",
              "      <td>894.58</td>\n",
              "      <td>242666.68</td>\n",
              "      <td>208470.99</td>\n",
              "      <td>34191.25</td>\n",
              "      <td>4.44</td>\n",
              "      <td>conventional</td>\n",
              "      <td>2015</td>\n",
              "      <td>NewYork</td>\n",
              "    </tr>\n",
              "    <tr>\n",
              "      <th>1457</th>\n",
              "      <td>2015-12-20</td>\n",
              "      <td>1.23</td>\n",
              "      <td>1139347.98</td>\n",
              "      <td>13998.35</td>\n",
              "      <td>867406.68</td>\n",
              "      <td>803.83</td>\n",
              "      <td>257139.12</td>\n",
              "      <td>212615.20</td>\n",
              "      <td>44523.92</td>\n",
              "      <td>0.00</td>\n",
              "      <td>conventional</td>\n",
              "      <td>2015</td>\n",
              "      <td>NewYork</td>\n",
              "    </tr>\n",
              "    <tr>\n",
              "      <th>1458</th>\n",
              "      <td>2015-12-13</td>\n",
              "      <td>1.12</td>\n",
              "      <td>1254805.29</td>\n",
              "      <td>15990.38</td>\n",
              "      <td>975504.52</td>\n",
              "      <td>1657.92</td>\n",
              "      <td>261652.47</td>\n",
              "      <td>222446.62</td>\n",
              "      <td>39205.85</td>\n",
              "      <td>0.00</td>\n",
              "      <td>conventional</td>\n",
              "      <td>2015</td>\n",
              "      <td>NewYork</td>\n",
              "    </tr>\n",
              "    <tr>\n",
              "      <th>1459</th>\n",
              "      <td>2015-12-06</td>\n",
              "      <td>1.20</td>\n",
              "      <td>1068971.54</td>\n",
              "      <td>15730.10</td>\n",
              "      <td>887708.08</td>\n",
              "      <td>892.62</td>\n",
              "      <td>164640.74</td>\n",
              "      <td>136643.23</td>\n",
              "      <td>27997.51</td>\n",
              "      <td>0.00</td>\n",
              "      <td>conventional</td>\n",
              "      <td>2015</td>\n",
              "      <td>NewYork</td>\n",
              "    </tr>\n",
              "    <tr>\n",
              "      <th>1460</th>\n",
              "      <td>2015-11-29</td>\n",
              "      <td>1.16</td>\n",
              "      <td>999169.64</td>\n",
              "      <td>13652.41</td>\n",
              "      <td>814571.57</td>\n",
              "      <td>863.58</td>\n",
              "      <td>170082.08</td>\n",
              "      <td>139508.76</td>\n",
              "      <td>30573.32</td>\n",
              "      <td>0.00</td>\n",
              "      <td>conventional</td>\n",
              "      <td>2015</td>\n",
              "      <td>NewYork</td>\n",
              "    </tr>\n",
              "    <tr>\n",
              "      <th>...</th>\n",
              "      <td>...</td>\n",
              "      <td>...</td>\n",
              "      <td>...</td>\n",
              "      <td>...</td>\n",
              "      <td>...</td>\n",
              "      <td>...</td>\n",
              "      <td>...</td>\n",
              "      <td>...</td>\n",
              "      <td>...</td>\n",
              "      <td>...</td>\n",
              "      <td>...</td>\n",
              "      <td>...</td>\n",
              "      <td>...</td>\n",
              "    </tr>\n",
              "    <tr>\n",
              "      <th>17944</th>\n",
              "      <td>2018-02-04</td>\n",
              "      <td>1.83</td>\n",
              "      <td>93204.08</td>\n",
              "      <td>9300.64</td>\n",
              "      <td>21428.22</td>\n",
              "      <td>814.47</td>\n",
              "      <td>61660.75</td>\n",
              "      <td>61516.19</td>\n",
              "      <td>144.56</td>\n",
              "      <td>0.00</td>\n",
              "      <td>organic</td>\n",
              "      <td>2018</td>\n",
              "      <td>NewYork</td>\n",
              "    </tr>\n",
              "    <tr>\n",
              "      <th>17945</th>\n",
              "      <td>2018-01-28</td>\n",
              "      <td>1.75</td>\n",
              "      <td>96380.28</td>\n",
              "      <td>13196.30</td>\n",
              "      <td>24933.01</td>\n",
              "      <td>128.24</td>\n",
              "      <td>58122.73</td>\n",
              "      <td>56090.23</td>\n",
              "      <td>2032.50</td>\n",
              "      <td>0.00</td>\n",
              "      <td>organic</td>\n",
              "      <td>2018</td>\n",
              "      <td>NewYork</td>\n",
              "    </tr>\n",
              "    <tr>\n",
              "      <th>17946</th>\n",
              "      <td>2018-01-21</td>\n",
              "      <td>1.91</td>\n",
              "      <td>71760.69</td>\n",
              "      <td>5732.09</td>\n",
              "      <td>13124.59</td>\n",
              "      <td>157.72</td>\n",
              "      <td>52746.29</td>\n",
              "      <td>52130.98</td>\n",
              "      <td>615.31</td>\n",
              "      <td>0.00</td>\n",
              "      <td>organic</td>\n",
              "      <td>2018</td>\n",
              "      <td>NewYork</td>\n",
              "    </tr>\n",
              "    <tr>\n",
              "      <th>17947</th>\n",
              "      <td>2018-01-14</td>\n",
              "      <td>1.91</td>\n",
              "      <td>86632.25</td>\n",
              "      <td>7433.43</td>\n",
              "      <td>17885.26</td>\n",
              "      <td>49.43</td>\n",
              "      <td>61264.13</td>\n",
              "      <td>60763.71</td>\n",
              "      <td>500.42</td>\n",
              "      <td>0.00</td>\n",
              "      <td>organic</td>\n",
              "      <td>2018</td>\n",
              "      <td>NewYork</td>\n",
              "    </tr>\n",
              "    <tr>\n",
              "      <th>17948</th>\n",
              "      <td>2018-01-07</td>\n",
              "      <td>1.97</td>\n",
              "      <td>82637.97</td>\n",
              "      <td>6158.73</td>\n",
              "      <td>19251.81</td>\n",
              "      <td>47.04</td>\n",
              "      <td>57180.39</td>\n",
              "      <td>57180.39</td>\n",
              "      <td>0.00</td>\n",
              "      <td>0.00</td>\n",
              "      <td>organic</td>\n",
              "      <td>2018</td>\n",
              "      <td>NewYork</td>\n",
              "    </tr>\n",
              "  </tbody>\n",
              "</table>\n",
              "<p>338 rows × 13 columns</p>\n",
              "</div>\n",
              "    <div class=\"colab-df-buttons\">\n",
              "\n",
              "  <div class=\"colab-df-container\">\n",
              "    <button class=\"colab-df-convert\" onclick=\"convertToInteractive('df-b1a53f7c-231d-42d0-a767-b24287d4244c')\"\n",
              "            title=\"Convert this dataframe to an interactive table.\"\n",
              "            style=\"display:none;\">\n",
              "\n",
              "  <svg xmlns=\"http://www.w3.org/2000/svg\" height=\"24px\" viewBox=\"0 -960 960 960\">\n",
              "    <path d=\"M120-120v-720h720v720H120Zm60-500h600v-160H180v160Zm220 220h160v-160H400v160Zm0 220h160v-160H400v160ZM180-400h160v-160H180v160Zm440 0h160v-160H620v160ZM180-180h160v-160H180v160Zm440 0h160v-160H620v160Z\"/>\n",
              "  </svg>\n",
              "    </button>\n",
              "\n",
              "  <style>\n",
              "    .colab-df-container {\n",
              "      display:flex;\n",
              "      gap: 12px;\n",
              "    }\n",
              "\n",
              "    .colab-df-convert {\n",
              "      background-color: #E8F0FE;\n",
              "      border: none;\n",
              "      border-radius: 50%;\n",
              "      cursor: pointer;\n",
              "      display: none;\n",
              "      fill: #1967D2;\n",
              "      height: 32px;\n",
              "      padding: 0 0 0 0;\n",
              "      width: 32px;\n",
              "    }\n",
              "\n",
              "    .colab-df-convert:hover {\n",
              "      background-color: #E2EBFA;\n",
              "      box-shadow: 0px 1px 2px rgba(60, 64, 67, 0.3), 0px 1px 3px 1px rgba(60, 64, 67, 0.15);\n",
              "      fill: #174EA6;\n",
              "    }\n",
              "\n",
              "    .colab-df-buttons div {\n",
              "      margin-bottom: 4px;\n",
              "    }\n",
              "\n",
              "    [theme=dark] .colab-df-convert {\n",
              "      background-color: #3B4455;\n",
              "      fill: #D2E3FC;\n",
              "    }\n",
              "\n",
              "    [theme=dark] .colab-df-convert:hover {\n",
              "      background-color: #434B5C;\n",
              "      box-shadow: 0px 1px 3px 1px rgba(0, 0, 0, 0.15);\n",
              "      filter: drop-shadow(0px 1px 2px rgba(0, 0, 0, 0.3));\n",
              "      fill: #FFFFFF;\n",
              "    }\n",
              "  </style>\n",
              "\n",
              "    <script>\n",
              "      const buttonEl =\n",
              "        document.querySelector('#df-b1a53f7c-231d-42d0-a767-b24287d4244c button.colab-df-convert');\n",
              "      buttonEl.style.display =\n",
              "        google.colab.kernel.accessAllowed ? 'block' : 'none';\n",
              "\n",
              "      async function convertToInteractive(key) {\n",
              "        const element = document.querySelector('#df-b1a53f7c-231d-42d0-a767-b24287d4244c');\n",
              "        const dataTable =\n",
              "          await google.colab.kernel.invokeFunction('convertToInteractive',\n",
              "                                                    [key], {});\n",
              "        if (!dataTable) return;\n",
              "\n",
              "        const docLinkHtml = 'Like what you see? Visit the ' +\n",
              "          '<a target=\"_blank\" href=https://colab.research.google.com/notebooks/data_table.ipynb>data table notebook</a>'\n",
              "          + ' to learn more about interactive tables.';\n",
              "        element.innerHTML = '';\n",
              "        dataTable['output_type'] = 'display_data';\n",
              "        await google.colab.output.renderOutput(dataTable, element);\n",
              "        const docLink = document.createElement('div');\n",
              "        docLink.innerHTML = docLinkHtml;\n",
              "        element.appendChild(docLink);\n",
              "      }\n",
              "    </script>\n",
              "  </div>\n",
              "\n",
              "\n",
              "<div id=\"df-289a3c55-ccff-47c2-8eb3-86351508640f\">\n",
              "  <button class=\"colab-df-quickchart\" onclick=\"quickchart('df-289a3c55-ccff-47c2-8eb3-86351508640f')\"\n",
              "            title=\"Suggest charts\"\n",
              "            style=\"display:none;\">\n",
              "\n",
              "<svg xmlns=\"http://www.w3.org/2000/svg\" height=\"24px\"viewBox=\"0 0 24 24\"\n",
              "     width=\"24px\">\n",
              "    <g>\n",
              "        <path d=\"M19 3H5c-1.1 0-2 .9-2 2v14c0 1.1.9 2 2 2h14c1.1 0 2-.9 2-2V5c0-1.1-.9-2-2-2zM9 17H7v-7h2v7zm4 0h-2V7h2v10zm4 0h-2v-4h2v4z\"/>\n",
              "    </g>\n",
              "</svg>\n",
              "  </button>\n",
              "\n",
              "<style>\n",
              "  .colab-df-quickchart {\n",
              "      --bg-color: #E8F0FE;\n",
              "      --fill-color: #1967D2;\n",
              "      --hover-bg-color: #E2EBFA;\n",
              "      --hover-fill-color: #174EA6;\n",
              "      --disabled-fill-color: #AAA;\n",
              "      --disabled-bg-color: #DDD;\n",
              "  }\n",
              "\n",
              "  [theme=dark] .colab-df-quickchart {\n",
              "      --bg-color: #3B4455;\n",
              "      --fill-color: #D2E3FC;\n",
              "      --hover-bg-color: #434B5C;\n",
              "      --hover-fill-color: #FFFFFF;\n",
              "      --disabled-bg-color: #3B4455;\n",
              "      --disabled-fill-color: #666;\n",
              "  }\n",
              "\n",
              "  .colab-df-quickchart {\n",
              "    background-color: var(--bg-color);\n",
              "    border: none;\n",
              "    border-radius: 50%;\n",
              "    cursor: pointer;\n",
              "    display: none;\n",
              "    fill: var(--fill-color);\n",
              "    height: 32px;\n",
              "    padding: 0;\n",
              "    width: 32px;\n",
              "  }\n",
              "\n",
              "  .colab-df-quickchart:hover {\n",
              "    background-color: var(--hover-bg-color);\n",
              "    box-shadow: 0 1px 2px rgba(60, 64, 67, 0.3), 0 1px 3px 1px rgba(60, 64, 67, 0.15);\n",
              "    fill: var(--button-hover-fill-color);\n",
              "  }\n",
              "\n",
              "  .colab-df-quickchart-complete:disabled,\n",
              "  .colab-df-quickchart-complete:disabled:hover {\n",
              "    background-color: var(--disabled-bg-color);\n",
              "    fill: var(--disabled-fill-color);\n",
              "    box-shadow: none;\n",
              "  }\n",
              "\n",
              "  .colab-df-spinner {\n",
              "    border: 2px solid var(--fill-color);\n",
              "    border-color: transparent;\n",
              "    border-bottom-color: var(--fill-color);\n",
              "    animation:\n",
              "      spin 1s steps(1) infinite;\n",
              "  }\n",
              "\n",
              "  @keyframes spin {\n",
              "    0% {\n",
              "      border-color: transparent;\n",
              "      border-bottom-color: var(--fill-color);\n",
              "      border-left-color: var(--fill-color);\n",
              "    }\n",
              "    20% {\n",
              "      border-color: transparent;\n",
              "      border-left-color: var(--fill-color);\n",
              "      border-top-color: var(--fill-color);\n",
              "    }\n",
              "    30% {\n",
              "      border-color: transparent;\n",
              "      border-left-color: var(--fill-color);\n",
              "      border-top-color: var(--fill-color);\n",
              "      border-right-color: var(--fill-color);\n",
              "    }\n",
              "    40% {\n",
              "      border-color: transparent;\n",
              "      border-right-color: var(--fill-color);\n",
              "      border-top-color: var(--fill-color);\n",
              "    }\n",
              "    60% {\n",
              "      border-color: transparent;\n",
              "      border-right-color: var(--fill-color);\n",
              "    }\n",
              "    80% {\n",
              "      border-color: transparent;\n",
              "      border-right-color: var(--fill-color);\n",
              "      border-bottom-color: var(--fill-color);\n",
              "    }\n",
              "    90% {\n",
              "      border-color: transparent;\n",
              "      border-bottom-color: var(--fill-color);\n",
              "    }\n",
              "  }\n",
              "</style>\n",
              "\n",
              "  <script>\n",
              "    async function quickchart(key) {\n",
              "      const quickchartButtonEl =\n",
              "        document.querySelector('#' + key + ' button');\n",
              "      quickchartButtonEl.disabled = true;  // To prevent multiple clicks.\n",
              "      quickchartButtonEl.classList.add('colab-df-spinner');\n",
              "      try {\n",
              "        const charts = await google.colab.kernel.invokeFunction(\n",
              "            'suggestCharts', [key], {});\n",
              "      } catch (error) {\n",
              "        console.error('Error during call to suggestCharts:', error);\n",
              "      }\n",
              "      quickchartButtonEl.classList.remove('colab-df-spinner');\n",
              "      quickchartButtonEl.classList.add('colab-df-quickchart-complete');\n",
              "    }\n",
              "    (() => {\n",
              "      let quickchartButtonEl =\n",
              "        document.querySelector('#df-289a3c55-ccff-47c2-8eb3-86351508640f button');\n",
              "      quickchartButtonEl.style.display =\n",
              "        google.colab.kernel.accessAllowed ? 'block' : 'none';\n",
              "    })();\n",
              "  </script>\n",
              "</div>\n",
              "    </div>\n",
              "  </div>\n"
            ],
            "application/vnd.google.colaboratory.intrinsic+json": {
              "type": "dataframe",
              "variable_name": "NY",
              "repr_error": "0"
            }
          },
          "metadata": {},
          "execution_count": 14
        }
      ]
    },
    {
      "cell_type": "code",
      "source": [
        "NYtb=NY[\"Total Bags\"]\n",
        "NYprom=NYtb.mean()\n",
        "NYprom"
      ],
      "metadata": {
        "colab": {
          "base_uri": "https://localhost:8080/"
        },
        "id": "ceRP7FzHzfXQ",
        "outputId": "136190e4-5d09-4a99-981e-7016821913b4"
      },
      "execution_count": 24,
      "outputs": [
        {
          "output_type": "execute_result",
          "data": {
            "text/plain": [
              "201166.144260355"
            ]
          },
          "metadata": {},
          "execution_count": 24
        }
      ]
    },
    {
      "cell_type": "code",
      "source": [
        "NYtot=NYtb.sum()\n",
        "NYtot"
      ],
      "metadata": {
        "id": "V9Ks-9Zf3Dsw"
      },
      "execution_count": null,
      "outputs": []
    },
    {
      "cell_type": "code",
      "source": [
        "NYstd=NYtb.std()\n",
        "NYstd"
      ],
      "metadata": {
        "colab": {
          "base_uri": "https://localhost:8080/"
        },
        "id": "H0dAKxCB3aQP",
        "outputId": "7c31706a-c7cd-4867-afea-92c672be8568"
      },
      "execution_count": 26,
      "outputs": [
        {
          "output_type": "execute_result",
          "data": {
            "text/plain": [
              "197491.93271625863"
            ]
          },
          "metadata": {},
          "execution_count": 26
        }
      ]
    },
    {
      "cell_type": "code",
      "source": [
        "NYsmall=NY[\"Small Bags\"]\n",
        "NYsmallsm=NYsmall.sum()\n",
        "NYsmllPorc=NYsmallsm / NYtot\n",
        "NYsmllPorc"
      ],
      "metadata": {
        "colab": {
          "base_uri": "https://localhost:8080/"
        },
        "id": "G-LktTfn4GqQ",
        "outputId": "044c0ffb-dd51-4ccb-8bed-9295f52be831"
      },
      "execution_count": 32,
      "outputs": [
        {
          "output_type": "execute_result",
          "data": {
            "text/plain": [
              "0.8589220792330922"
            ]
          },
          "metadata": {},
          "execution_count": 32
        }
      ]
    },
    {
      "cell_type": "code",
      "source": [
        "NYlg=NY[\"Large Bags\"]\n",
        "NYlgsm=NYlg.sum()\n",
        "NYlgPorc=NYlgsm / NYtot\n",
        "NYlgPorc"
      ],
      "metadata": {
        "colab": {
          "base_uri": "https://localhost:8080/"
        },
        "id": "kpQ2PGMp5TcZ",
        "outputId": "22cf60ec-67ff-441c-b2be-a08c52b72ffa"
      },
      "execution_count": 33,
      "outputs": [
        {
          "output_type": "execute_result",
          "data": {
            "text/plain": [
              "0.13579104470094175"
            ]
          },
          "metadata": {},
          "execution_count": 33
        }
      ]
    },
    {
      "cell_type": "code",
      "source": [
        "NYxlg=NY[\"XLarge Bags\"]\n",
        "NYxlgsm=NYxlg.sum()\n",
        "NYxlgPorc=NYxlgsm / NYtot\n",
        "NYxlgPorc"
      ],
      "metadata": {
        "colab": {
          "base_uri": "https://localhost:8080/"
        },
        "id": "wXZUDZz95m4f",
        "outputId": "cd951f14-04c7-4ba4-971d-7a9dbb2738fa"
      },
      "execution_count": 34,
      "outputs": [
        {
          "output_type": "execute_result",
          "data": {
            "text/plain": [
              "0.005286890773112369"
            ]
          },
          "metadata": {},
          "execution_count": 34
        }
      ]
    },
    {
      "cell_type": "code",
      "source": [
        "California\n"
      ],
      "metadata": {
        "id": "q4jAHIWIx27S"
      },
      "execution_count": null,
      "outputs": []
    },
    {
      "cell_type": "code",
      "source": [
        "Caltb=California[\"Total Bags\"]\n",
        "Calprom=Caltb.mean()\n",
        "Calprom"
      ],
      "metadata": {
        "colab": {
          "base_uri": "https://localhost:8080/"
        },
        "id": "NjvjbsRM6Cx3",
        "outputId": "db97ff73-f219-457c-ccac-1043ddde2a3f"
      },
      "execution_count": 35,
      "outputs": [
        {
          "output_type": "execute_result",
          "data": {
            "text/plain": [
              "729828.9754733727"
            ]
          },
          "metadata": {},
          "execution_count": 35
        }
      ]
    },
    {
      "cell_type": "code",
      "source": [
        "Caltot=Caltb.sum()\n",
        "Caltot"
      ],
      "metadata": {
        "id": "apNHjyce6RRQ"
      },
      "execution_count": null,
      "outputs": []
    },
    {
      "cell_type": "code",
      "source": [
        "Calstd=Caltb.std()\n",
        "Calstd"
      ],
      "metadata": {
        "colab": {
          "base_uri": "https://localhost:8080/"
        },
        "id": "JpBWgakA6ezM",
        "outputId": "bdf7f721-df53-4896-dd1c-2e554090216a"
      },
      "execution_count": 42,
      "outputs": [
        {
          "output_type": "execute_result",
          "data": {
            "text/plain": [
              "813755.2335129493"
            ]
          },
          "metadata": {},
          "execution_count": 42
        }
      ]
    },
    {
      "cell_type": "code",
      "source": [
        "Calsmall=California[\"Small Bags\"]\n",
        "Calsmallsm=Calsmall.sum()\n",
        "CalsmllPorc=Calsmallsm / Caltot\n",
        "CalsmllPorc"
      ],
      "metadata": {
        "colab": {
          "base_uri": "https://localhost:8080/"
        },
        "id": "VR1Hphh46iv4",
        "outputId": "6d30fcf5-8e0e-4eee-b090-8f07a00ab8dd"
      },
      "execution_count": 43,
      "outputs": [
        {
          "output_type": "execute_result",
          "data": {
            "text/plain": [
              "0.9287159176123091"
            ]
          },
          "metadata": {},
          "execution_count": 43
        }
      ]
    },
    {
      "cell_type": "code",
      "source": [
        "Callg=California[\"Large Bags\"]\n",
        "Callgsm=Callg.sum()\n",
        "CallgPorc=Callgsm / Caltot\n",
        "CallgPorc"
      ],
      "metadata": {
        "colab": {
          "base_uri": "https://localhost:8080/"
        },
        "id": "AUXPN6R96vdZ",
        "outputId": "dafb5335-3e0f-438c-c69f-7f2d456b436e"
      },
      "execution_count": 44,
      "outputs": [
        {
          "output_type": "execute_result",
          "data": {
            "text/plain": [
              "0.04991011197376464"
            ]
          },
          "metadata": {},
          "execution_count": 44
        }
      ]
    },
    {
      "cell_type": "code",
      "source": [
        "Calxlg=California[\"XLarge Bags\"]\n",
        "Calxlgsm=Calxlg.sum()\n",
        "CalxlgPorc=Calxlgsm / Caltot\n",
        "CalxlgPorc"
      ],
      "metadata": {
        "colab": {
          "base_uri": "https://localhost:8080/"
        },
        "id": "YssTCLe97HUH",
        "outputId": "c0d0298e-9b16-4948-d71d-07740f69166f"
      },
      "execution_count": 45,
      "outputs": [
        {
          "output_type": "execute_result",
          "data": {
            "text/plain": [
              "0.0213739704139264"
            ]
          },
          "metadata": {},
          "execution_count": 45
        }
      ]
    },
    {
      "cell_type": "code",
      "source": [
        "Charlotte"
      ],
      "metadata": {
        "id": "N0fQ-gqIx5dL"
      },
      "execution_count": null,
      "outputs": []
    },
    {
      "cell_type": "code",
      "source": [
        "Chartb=Charlotte[\"Total Bags\"]\n",
        "Charprom=Chartb.mean()\n",
        "Charprom"
      ],
      "metadata": {
        "colab": {
          "base_uri": "https://localhost:8080/"
        },
        "id": "n4IEjl8h7U9C",
        "outputId": "f0c3d293-0868-4f36-a48b-aaa21a2bb8c9"
      },
      "execution_count": 46,
      "outputs": [
        {
          "output_type": "execute_result",
          "data": {
            "text/plain": [
              "34609.297071005916"
            ]
          },
          "metadata": {},
          "execution_count": 46
        }
      ]
    },
    {
      "cell_type": "code",
      "source": [
        "Chartot=Chartb.sum()\n",
        "Chartot"
      ],
      "metadata": {
        "id": "_YyA7cL97rYG"
      },
      "execution_count": null,
      "outputs": []
    },
    {
      "cell_type": "code",
      "source": [
        "Charstd=Chartb.std()\n",
        "Charstd"
      ],
      "metadata": {
        "colab": {
          "base_uri": "https://localhost:8080/"
        },
        "id": "6ntf_C3k7w2b",
        "outputId": "ec1f3bfa-24ee-47c0-e547-6885fec2e671"
      },
      "execution_count": 48,
      "outputs": [
        {
          "output_type": "execute_result",
          "data": {
            "text/plain": [
              "37032.501145198745"
            ]
          },
          "metadata": {},
          "execution_count": 48
        }
      ]
    },
    {
      "cell_type": "code",
      "source": [
        "Charsmall=Charlotte[\"Small Bags\"]\n",
        "Charsmallsm=Charsmall.sum()\n",
        "CharsmllPorc=Charsmallsm / Chartot\n",
        "CharsmllPorc"
      ],
      "metadata": {
        "colab": {
          "base_uri": "https://localhost:8080/"
        },
        "id": "--vNm1xQ74Kw",
        "outputId": "d9f67d61-51ad-41dd-bd1e-7fbd5f914f68"
      },
      "execution_count": 49,
      "outputs": [
        {
          "output_type": "execute_result",
          "data": {
            "text/plain": [
              "0.9098909190133377"
            ]
          },
          "metadata": {},
          "execution_count": 49
        }
      ]
    },
    {
      "cell_type": "code",
      "source": [
        "Charlg=Charlotte[\"Large Bags\"]\n",
        "Charlgsm=Charlg.sum()\n",
        "CharlgPorc=Charlgsm / Chartot\n",
        "CharlgPorc"
      ],
      "metadata": {
        "colab": {
          "base_uri": "https://localhost:8080/"
        },
        "id": "zqyeM8H08GC6",
        "outputId": "52e0c951-29c9-424d-d2db-0ea4630a39e4"
      },
      "execution_count": 50,
      "outputs": [
        {
          "output_type": "execute_result",
          "data": {
            "text/plain": [
              "0.08415900980658017"
            ]
          },
          "metadata": {},
          "execution_count": 50
        }
      ]
    },
    {
      "cell_type": "code",
      "source": [
        "Charxlg=Charlotte[\"XLarge Bags\"]\n",
        "Charxlgsm=Charxlg.sum()\n",
        "CharxlgPorc=Charxlgsm / Chartot\n",
        "CharxlgPorc"
      ],
      "metadata": {
        "colab": {
          "base_uri": "https://localhost:8080/"
        },
        "id": "M2TdJ3P08RtB",
        "outputId": "6ac4937c-073a-496c-f375-ff97334ca1ed"
      },
      "execution_count": 51,
      "outputs": [
        {
          "output_type": "execute_result",
          "data": {
            "text/plain": [
              "0.005950071180082002"
            ]
          },
          "metadata": {},
          "execution_count": 51
        }
      ]
    }
  ]
}